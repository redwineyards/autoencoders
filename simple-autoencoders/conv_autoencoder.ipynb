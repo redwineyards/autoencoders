{
  "nbformat": 4,
  "nbformat_minor": 0,
  "metadata": {
    "colab": {
      "name": "conv_autoencoder.ipynb",
      "provenance": [],
      "collapsed_sections": [],
      "authorship_tag": "ABX9TyP2Nrpp8KwUkAqFMftaKk8Q",
      "include_colab_link": true
    },
    "kernelspec": {
      "name": "python3",
      "display_name": "Python 3"
    },
    "language_info": {
      "name": "python"
    },
    "accelerator": "GPU"
  },
  "cells": [
    {
      "cell_type": "markdown",
      "metadata": {
        "id": "view-in-github",
        "colab_type": "text"
      },
      "source": [
        "<a href=\"https://colab.research.google.com/github/redwineyards/autoencoders/blob/main/simple-autoencoders/conv_autoencoder.ipynb\" target=\"_parent\"><img src=\"https://colab.research.google.com/assets/colab-badge.svg\" alt=\"Open In Colab\"/></a>"
      ]
    },
    {
      "cell_type": "code",
      "metadata": {
        "colab": {
          "base_uri": "https://localhost:8080/"
        },
        "id": "E3ZRYu5PujIG",
        "outputId": "b416f48d-ee68-45ee-fbb5-8a9383f2c1b5"
      },
      "source": [
        "import torch\n",
        "import numpy as np\n",
        "import torch.nn as nn\n",
        "import torch.nn.functional as F\n",
        "import torchvision\n",
        "import torchvision.transforms as transforms\n",
        "import matplotlib.pyplot as plt\n",
        "\n",
        "device=torch.device('cuda' if torch.cuda.is_available() else 'cpu')\n",
        "print(torch.cuda.is_available())\n",
        "seed=42\n",
        "torch.manual_seed(seed)\n",
        "if device=='cuda': torch.cuda.manual_seed_all(seed)\n",
        "\n",
        "root=\"/content/data\"\n",
        "trans=transforms.Compose([transforms.ToTensor()])\n",
        "training_set=torchvision.datasets.MNIST(root=root,train=True,transform=trans,download=True)\n",
        "test_set=torchvision.datasets.MNIST(root=root, train=False,transform=trans, download=True)\n",
        "\n",
        "num_epochs=15\n",
        "learning_rate=1e-3\n",
        "batch_size=128\n",
        "train_loader=torch.utils.data.DataLoader(training_set,batch_size=batch_size,shuffle=True)\n",
        "test_loader=torch.utils.data.DataLoader(test_set,batch_size=batch_size,shuffle=False)"
      ],
      "execution_count": 1,
      "outputs": [
        {
          "output_type": "stream",
          "text": [
            "True\n"
          ],
          "name": "stdout"
        }
      ]
    },
    {
      "cell_type": "code",
      "metadata": {
        "id": "S5TqGk2KvW3W"
      },
      "source": [
        "class ConvAE(nn.Module):\n",
        "  def __init__(self):\n",
        "    super(ConvAE,self).__init__()\n",
        "    self.encoder=nn.Sequential(\n",
        "        nn.Conv2d(1,8,5,stride=1),\n",
        "        nn.ReLU(),\n",
        "        nn.Conv2d(8,16,3,stride=2),\n",
        "        nn.ReLU(),\n",
        "        nn.Conv2d(16,32,1,stride=1),\n",
        "        nn.ReLU(),\n",
        "        nn.MaxPool2d(2, 2),\n",
        "    )\n",
        "    self.decoder=nn.Sequential(\n",
        "        nn.ConvTranspose2d(32,16,3, stride=2),\n",
        "        nn.ReLU(),\n",
        "        nn.ConvTranspose2d(16,8,5, stride=2),\n",
        "        nn.ReLU(),\n",
        "        nn.ConvTranspose2d(8,1,4, stride=1),\n",
        "        nn.Sigmoid()\n",
        "    )\n",
        "  def encode(self,input):\n",
        "    features=self.encoder(input.float())\n",
        "    return features\n",
        "  def decode(self,features):\n",
        "    reconstruction=self.decoder(features.float())\n",
        "    return reconstruction\n",
        "  def forward(self,x):\n",
        "    output=self.encode(x)\n",
        "    output=self.decode(output)\n",
        "    return output"
      ],
      "execution_count": 2,
      "outputs": []
    },
    {
      "cell_type": "code",
      "metadata": {
        "id": "J2Mj-6wpGYVc"
      },
      "source": [
        "def train(model,train_loader,num_epochs,learning_rate):\n",
        "  losses=[]\n",
        "  optimizer=torch.optim.Adam(model.parameters(), lr=learning_rate)\n",
        "  lossfn=torch.nn.BCELoss()\n",
        "  model.train()\n",
        "  for epoch in range(num_epochs):\n",
        "    for i,(images,_) in enumerate(train_loader):\n",
        "      images=images.to(device)\n",
        "      output=model.forward(images)\n",
        "      loss=lossfn(output,images.float())\n",
        "      losses.append(loss)\n",
        "\n",
        "      optimizer.zero_grad()\n",
        "      loss.backward()\n",
        "      optimizer.step()\n",
        "      \n",
        "      if (i + 1) % 200 == 0:\n",
        "        print('Epoch [{}/{}], Loss: {:.4f}'.format(epoch + 1, num_epochs,loss.item()))\n",
        "  return losses"
      ],
      "execution_count": 3,
      "outputs": []
    },
    {
      "cell_type": "code",
      "metadata": {
        "id": "QC73H9ztMupf"
      },
      "source": [
        "def evaluate(model,test_loader):\n",
        "  lossfn=torch.nn.BCELoss()\n",
        "  model.eval()\n",
        "  with torch.no_grad():\n",
        "    total=0\n",
        "    for i,(images,_) in enumerate(test_loader):\n",
        "      images=images.to(device)\n",
        "      output=model.forward(images)\n",
        "      total+=lossfn(output,images.float())\n",
        "    \n",
        "    loss=total/len(test_loader)\n",
        "    print(\"model test loss on MNIST test set:\", loss.item())"
      ],
      "execution_count": 4,
      "outputs": []
    },
    {
      "cell_type": "code",
      "metadata": {
        "colab": {
          "base_uri": "https://localhost:8080/"
        },
        "id": "8W93MshTM2lw",
        "outputId": "b3cc6755-383c-4958-d3fb-bc735209d19d"
      },
      "source": [
        "model=ConvAE().to(device)\n",
        "losses=train(model,train_loader,num_epochs,learning_rate)"
      ],
      "execution_count": 5,
      "outputs": [
        {
          "output_type": "stream",
          "text": [
            "Epoch [1/15], Loss: 0.1184\n",
            "Epoch [1/15], Loss: 0.0945\n",
            "Epoch [2/15], Loss: 0.0870\n",
            "Epoch [2/15], Loss: 0.0801\n",
            "Epoch [3/15], Loss: 0.0803\n",
            "Epoch [3/15], Loss: 0.0775\n",
            "Epoch [4/15], Loss: 0.0751\n",
            "Epoch [4/15], Loss: 0.0735\n",
            "Epoch [5/15], Loss: 0.0746\n",
            "Epoch [5/15], Loss: 0.0742\n",
            "Epoch [6/15], Loss: 0.0741\n",
            "Epoch [6/15], Loss: 0.0722\n",
            "Epoch [7/15], Loss: 0.0714\n",
            "Epoch [7/15], Loss: 0.0716\n",
            "Epoch [8/15], Loss: 0.0708\n",
            "Epoch [8/15], Loss: 0.0708\n",
            "Epoch [9/15], Loss: 0.0694\n",
            "Epoch [9/15], Loss: 0.0718\n",
            "Epoch [10/15], Loss: 0.0709\n",
            "Epoch [10/15], Loss: 0.0693\n",
            "Epoch [11/15], Loss: 0.0702\n",
            "Epoch [11/15], Loss: 0.0688\n",
            "Epoch [12/15], Loss: 0.0699\n",
            "Epoch [12/15], Loss: 0.0662\n",
            "Epoch [13/15], Loss: 0.0702\n",
            "Epoch [13/15], Loss: 0.0690\n",
            "Epoch [14/15], Loss: 0.0701\n",
            "Epoch [14/15], Loss: 0.0712\n",
            "Epoch [15/15], Loss: 0.0686\n",
            "Epoch [15/15], Loss: 0.0670\n"
          ],
          "name": "stdout"
        }
      ]
    },
    {
      "cell_type": "code",
      "metadata": {
        "colab": {
          "base_uri": "https://localhost:8080/"
        },
        "id": "Vfd0c2ojM8-U",
        "outputId": "32f10cd9-df00-47c6-dd91-3773ddf988ad"
      },
      "source": [
        "evaluate(model,test_loader)"
      ],
      "execution_count": 6,
      "outputs": [
        {
          "output_type": "stream",
          "text": [
            "model test loss on MNIST test set: 0.06910720467567444\n"
          ],
          "name": "stdout"
        }
      ]
    },
    {
      "cell_type": "code",
      "metadata": {
        "colab": {
          "base_uri": "https://localhost:8080/",
          "height": 282
        },
        "id": "IFK2pk4DNvqw",
        "outputId": "5dc2e84c-7929-42e9-ab61-37d22b18239a"
      },
      "source": [
        "tens1=training_set[114][0].reshape(-1,1,28,28)\n",
        "test1=np.squeeze(tens1.numpy())\n",
        "plt.imshow(test1)"
      ],
      "execution_count": 24,
      "outputs": [
        {
          "output_type": "execute_result",
          "data": {
            "text/plain": [
              "<matplotlib.image.AxesImage at 0x7fb9a529d150>"
            ]
          },
          "metadata": {
            "tags": []
          },
          "execution_count": 24
        },
        {
          "output_type": "display_data",
          "data": {
            "image/png": "[encoded data removed]",
            "text/plain": [
              "<Figure size 432x288 with 1 Axes>"
            ]
          },
          "metadata": {
            "tags": [],
            "needs_background": "light"
          }
        }
      ]
    },
    {
      "cell_type": "code",
      "metadata": {
        "colab": {
          "base_uri": "https://localhost:8080/",
          "height": 265
        },
        "id": "hI2_XGPmOTG0",
        "outputId": "efe25ee3-7ecd-4bf1-fc2a-79f11fcdee50"
      },
      "source": [
        "with torch.no_grad():\n",
        "  tens1_reconstr=model.forward(tens1.to(device))\n",
        "  test1_reconstr=np.squeeze(tens1_reconstr.cpu().numpy())\n",
        "  plt.imshow(test1_reconstr)"
      ],
      "execution_count": 25,
      "outputs": [
        {
          "output_type": "display_data",
          "data": {
            "image/png": "[encoded data removed]",
            "text/plain": [
              "<Figure size 432x288 with 1 Axes>"
            ]
          },
          "metadata": {
            "tags": [],
            "needs_background": "light"
          }
        }
      ]
    },
    {
      "cell_type": "code",
      "metadata": {
        "id": "MBVnlPpdOXBg"
      },
      "source": [
        ""
      ],
      "execution_count": 13,
      "outputs": []
    }
  ]
}