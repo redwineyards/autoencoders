{
  "nbformat": 4,
  "nbformat_minor": 0,
  "metadata": {
    "colab": {
      "name": "sparse_autoencoder.ipynb",
      "provenance": [],
      "authorship_tag": "ABX9TyP1Nnx27cJzTVYbBs2TdVYB",
      "include_colab_link": true
    },
    "kernelspec": {
      "name": "python3",
      "display_name": "Python 3"
    },
    "language_info": {
      "name": "python"
    },
    "accelerator": "GPU"
  },
  "cells": [
    {
      "cell_type": "markdown",
      "metadata": {
        "id": "view-in-github",
        "colab_type": "text"
      },
      "source": [
        "<a href=\"https://colab.research.google.com/github/redwineyards/autoencoders/blob/main/sparse/sparse_autoencoder.ipynb\" target=\"_parent\"><img src=\"https://colab.research.google.com/assets/colab-badge.svg\" alt=\"Open In Colab\"/></a>"
      ]
    },
    {
      "cell_type": "code",
      "metadata": {
        "colab": {
          "base_uri": "https://localhost:8080/"
        },
        "id": "TDIdj28OhAXt",
        "outputId": "21056efa-cc4f-4379-ad12-4225dd3cd7d4"
      },
      "source": [
        "import torch\n",
        "import numpy as np\n",
        "import torch.nn as nn\n",
        "import torch.nn.functional as F\n",
        "import torchvision\n",
        "import torchvision.transforms as transforms\n",
        "import matplotlib.pyplot as plt\n",
        "\n",
        "device=torch.device('cuda' if torch.cuda.is_available() else 'cpu')\n",
        "print(torch.cuda.is_available())\n",
        "seed=42\n",
        "torch.manual_seed(seed)\n",
        "if device=='cuda': torch.cuda.manual_seed_all(seed)\n",
        "\n",
        "root=\"/content/data\"\n",
        "trans=transforms.Compose([transforms.ToTensor()])\n",
        "training_set=torchvision.datasets.MNIST(root=root,train=True,transform=trans,download=True)\n",
        "test_set=torchvision.datasets.MNIST(root=root, train=False,transform=trans, download=True)"
      ],
      "execution_count": 1,
      "outputs": [
        {
          "output_type": "stream",
          "text": [
            "True\n"
          ],
          "name": "stdout"
        }
      ]
    },
    {
      "cell_type": "code",
      "metadata": {
        "id": "0_KvFpkCJKv8"
      },
      "source": [
        "num_epochs=20\n",
        "learning_rate=1e-3\n",
        "batch_size=128\n",
        "beta=0.01\n",
        "rho=0.05\n",
        "train_loader=torch.utils.data.DataLoader(training_set,batch_size=batch_size,shuffle=True)\n",
        "test_loader=torch.utils.data.DataLoader(test_set,batch_size=batch_size,shuffle=False)"
      ],
      "execution_count": 20,
      "outputs": []
    },
    {
      "cell_type": "code",
      "metadata": {
        "id": "D6d3nsJ399es"
      },
      "source": [
        "class SparseAE(nn.Module):\n",
        "  def __init__(self):\n",
        "    super(SparseAE,self).__init__()\n",
        "    self.enc1=nn.Sequential(nn.Conv2d(1,8,5,stride=1),nn.ReLU())\n",
        "    self.enc2=nn.Sequential(nn.Conv2d(8,16,3,stride=2),nn.ReLU())\n",
        "    self.enc3=nn.Sequential(nn.Conv2d(16,32,1,stride=1),nn.ReLU())\n",
        "    self.enc4=nn.MaxPool2d(2, 2)\n",
        "    self.bottle=nn.MaxPool2d(2,2)\n",
        "\n",
        "    self.dec0=nn.Sequential(nn.ConvTranspose2d(32,32,3, stride=2),nn.ReLU())\n",
        "    self.dec1=nn.Sequential(nn.ConvTranspose2d(32,16,3, stride=2),nn.ReLU())\n",
        "    self.dec2=nn.Sequential(nn.ConvTranspose2d(16,8,5, stride=2),nn.ReLU())\n",
        "    self.dec3=nn.Sequential(nn.ConvTranspose2d(8,1,4, stride=1),nn.ReLU())\n",
        "    self.reconstr=nn.Sigmoid()\n",
        "\n",
        "  def encode(self,x):\n",
        "    out=self.enc1(x)\n",
        "    out=self.enc2(out)\n",
        "    out=self.enc3(out)\n",
        "    out=self.bottle(out)\n",
        "    return out\n",
        "\n",
        "  def decode(self,x):\n",
        "    out=self.dec1(x)\n",
        "    out=self.dec2(out)\n",
        "    out=self.dec3(out)\n",
        "    out=self.reconstr(out)\n",
        "    return out\n",
        "    \n",
        "  def forward(self,x):\n",
        "    activations=[]\n",
        "    out=self.enc1(x)\n",
        "    if self.training==True: activations.append(torch.mean(out,dim=1))\n",
        "    #if self.training==True: activations.append(out)\n",
        "    out=self.enc2(out)\n",
        "    if self.training==True: activations.append(torch.mean(out,dim=1))\n",
        "    out=self.enc3(out)\n",
        "    if self.training==True: activations.append(torch.mean(out,dim=1))\n",
        "    out=self.enc4(out)\n",
        "    if self.training==True: activations.append(torch.mean(out,dim=1))\n",
        "    out=self.bottle(out)\n",
        "    if self.training==True: activations.append(torch.mean(out,dim=1))\n",
        "    out=self.dec0(out)\n",
        "    if self.training==True: activations.append(torch.mean(out,dim=1))\n",
        "    out=self.dec1(out)\n",
        "    if self.training==True: activations.append(torch.mean(out,dim=1))\n",
        "    out=self.dec2(out)\n",
        "    if self.training==True: activations.append(torch.mean(out,dim=1))\n",
        "    out=self.dec3(out)\n",
        "    if self.training==True: activations.append(torch.mean(out,dim=1))\n",
        "    out=self.reconstr(out)\n",
        "    return out, activations"
      ],
      "execution_count": 105,
      "outputs": []
    },
    {
      "cell_type": "code",
      "metadata": {
        "id": "GsSISjfsKS_T"
      },
      "source": [
        "def klloss(activations,rho):\n",
        "  loss=0\n",
        "  for mean in activations:\n",
        "    loss+=F.kl_div(mean,rho*torch.ones_like(mean))\n",
        "  return torch.abs(loss)"
      ],
      "execution_count": 106,
      "outputs": []
    },
    {
      "cell_type": "code",
      "metadata": {
        "id": "WIaistwzI3Pa"
      },
      "source": [
        "def train(model,train_loader,num_epochs,learning_rate,beta,rho):\n",
        "  losses=[]\n",
        "  lossfn=nn.BCELoss()\n",
        "  optimizer=torch.optim.Adam(model.parameters(), lr=learning_rate)\n",
        "  model.train()\n",
        "  for epoch in range(num_epochs):\n",
        "    for i,(images,_) in enumerate(train_loader):\n",
        "      images=images.to(device)\n",
        "      output,activations=model.forward(images)\n",
        "      loss=lossfn(output,images.float()) + beta*klloss(activations,rho)\n",
        "      losses.append(loss)\n",
        "\n",
        "      optimizer.zero_grad()\n",
        "      loss.backward()\n",
        "      optimizer.step()\n",
        "\n",
        "    print('Epoch [{}/{}], Loss: {:.4f}'.format(epoch + 1, num_epochs,loss.item()))\n",
        "  return losses"
      ],
      "execution_count": 101,
      "outputs": []
    },
    {
      "cell_type": "code",
      "metadata": {
        "id": "mDAbE6DMtEjy"
      },
      "source": [
        "def evaluate(model,test_loader):\n",
        "  lossfn=torch.nn.BCELoss()\n",
        "  model.eval()\n",
        "  with torch.no_grad():\n",
        "    total=0\n",
        "    for i,(images,_) in enumerate(test_loader):\n",
        "      images=images.to(device)\n",
        "      output,_=model.forward(images)\n",
        "      total+=lossfn(output,images.float())\n",
        "    \n",
        "    loss=total/len(test_loader)\n",
        "    print(\"model test loss on MNIST test set:\", loss.item())"
      ],
      "execution_count": 107,
      "outputs": []
    },
    {
      "cell_type": "code",
      "metadata": {
        "colab": {
          "base_uri": "https://localhost:8080/"
        },
        "id": "kG3POOJDt4rm",
        "outputId": "3c25651c-1d50-4e30-e36d-2fd82073c0f2"
      },
      "source": [
        "model=SparseAE().to(device)\n",
        "losses=train(model,train_loader,num_epochs,learning_rate,beta,rho)"
      ],
      "execution_count": 108,
      "outputs": [
        {
          "output_type": "stream",
          "text": [
            "/usr/local/lib/python3.7/dist-packages/torch/nn/functional.py:2611: UserWarning: reduction: 'mean' divides the total loss by both the batch size and the support size.'batchmean' divides only by the batch size, and aligns with the KL div math definition.'mean' will be changed to behave the same as 'batchmean' in the next major release.\n",
            "  \"reduction: 'mean' divides the total loss by both the batch size and the support size.\"\n"
          ],
          "name": "stderr"
        },
        {
          "output_type": "stream",
          "text": [
            "Epoch [1/20], Loss: 0.6923\n",
            "Epoch [2/20], Loss: 0.6866\n",
            "Epoch [3/20], Loss: 0.6778\n",
            "Epoch [4/20], Loss: 0.6742\n",
            "Epoch [5/20], Loss: 0.6714\n",
            "Epoch [6/20], Loss: 0.6752\n",
            "Epoch [7/20], Loss: 0.6755\n",
            "Epoch [8/20], Loss: 0.6755\n",
            "Epoch [9/20], Loss: 0.6755\n",
            "Epoch [10/20], Loss: 0.6763\n",
            "Epoch [11/20], Loss: 0.6729\n",
            "Epoch [12/20], Loss: 0.6729\n",
            "Epoch [13/20], Loss: 0.6678\n",
            "Epoch [14/20], Loss: 0.6699\n",
            "Epoch [15/20], Loss: 0.6703\n",
            "Epoch [16/20], Loss: 0.6689\n",
            "Epoch [17/20], Loss: 0.6703\n",
            "Epoch [18/20], Loss: 0.6707\n",
            "Epoch [19/20], Loss: 0.6681\n",
            "Epoch [20/20], Loss: 0.6675\n"
          ],
          "name": "stdout"
        }
      ]
    },
    {
      "cell_type": "code",
      "metadata": {
        "colab": {
          "base_uri": "https://localhost:8080/"
        },
        "id": "6BQfYvzXt7t8",
        "outputId": "28bdd09b-4238-4b2e-999e-33038996b416"
      },
      "source": [
        "evaluate(model,test_loader)"
      ],
      "execution_count": 109,
      "outputs": [
        {
          "output_type": "stream",
          "text": [
            "model test loss on MNIST test set: 0.653213381767273\n"
          ],
          "name": "stdout"
        }
      ]
    },
    {
      "cell_type": "code",
      "metadata": {
        "colab": {
          "base_uri": "https://localhost:8080/",
          "height": 282
        },
        "id": "5dzPEYnmu8Rf",
        "outputId": "9713ed21-0730-469f-d687-202bf8c82309"
      },
      "source": [
        "tens1=training_set[1504][0].reshape(-1,1,28,28)\n",
        "#tens1=torch.rand(1,1,28,28)*0.1\n",
        "test1=np.squeeze(tens1.numpy())\n",
        "plt.imshow(test1)"
      ],
      "execution_count": 132,
      "outputs": [
        {
          "output_type": "execute_result",
          "data": {
            "text/plain": [
              "<matplotlib.image.AxesImage at 0x7fd84f9aecd0>"
            ]
          },
          "metadata": {
            "tags": []
          },
          "execution_count": 132
        },
        {
          "output_type": "display_data",
          "data": {
            "image/png": "[encoded data removed]",
            "text/plain": [
              "<Figure size 432x288 with 1 Axes>"
            ]
          },
          "metadata": {
            "tags": [],
            "needs_background": "light"
          }
        }
      ]
    },
    {
      "cell_type": "code",
      "metadata": {
        "colab": {
          "base_uri": "https://localhost:8080/",
          "height": 265
        },
        "id": "2k0ouR6Wu_So",
        "outputId": "29215a30-a554-4f68-fe33-9b90c9b86a5e"
      },
      "source": [
        "with torch.no_grad():\n",
        "  tens1_reconstr,_=model.forward(tens1.to(device))\n",
        "  test1_reconstr=np.squeeze(tens1_reconstr.cpu().numpy())\n",
        "  plt.imshow(test1_reconstr)"
      ],
      "execution_count": 133,
      "outputs": [
        {
          "output_type": "display_data",
          "data": {
            "image/png": "[encoded data removed]",
            "text/plain": [
              "<Figure size 432x288 with 1 Axes>"
            ]
          },
          "metadata": {
            "tags": [],
            "needs_background": "light"
          }
        }
      ]
    },
    {
      "cell_type": "code",
      "metadata": {
        "id": "g8HYA9GYvYsf"
      },
      "source": [
        ""
      ],
      "execution_count": null,
      "outputs": []
    }
  ]
}