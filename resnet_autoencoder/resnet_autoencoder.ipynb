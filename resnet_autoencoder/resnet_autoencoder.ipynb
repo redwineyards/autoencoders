{
  "nbformat": 4,
  "nbformat_minor": 0,
  "metadata": {
    "colab": {
      "name": "resnet-autoencoder.ipynb",
      "provenance": [],
      "collapsed_sections": [],
      "include_colab_link": true
    },
    "kernelspec": {
      "display_name": "Python 3",
      "name": "python3"
    },
    "language_info": {
      "name": "python"
    },
    "accelerator": "GPU"
  },
  "cells": [
    {
      "cell_type": "markdown",
      "metadata": {
        "id": "view-in-github",
        "colab_type": "text"
      },
      "source": [
        "<a href=\"https://colab.research.google.com/github/redwineyards/autoencoders/blob/main/resnet_autoencoder/resnet_autoencoder.ipynb\" target=\"_parent\"><img src=\"https://colab.research.google.com/assets/colab-badge.svg\" alt=\"Open In Colab\"/></a>"
      ]
    },
    {
      "cell_type": "code",
      "metadata": {
        "colab": {
          "base_uri": "https://localhost:8080/"
        },
        "id": "HrFcSPF2NnKj",
        "outputId": "8c81746a-4d9b-444b-c669-b55f130e48ce"
      },
      "source": [
        "import torch\n",
        "import numpy as np\n",
        "import torch.nn as nn\n",
        "import torch.nn.functional as F\n",
        "import torchvision\n",
        "import torchvision.transforms as transforms\n",
        "import matplotlib.pyplot as plt\n",
        "\n",
        "device=torch.device('cuda' if torch.cuda.is_available() else 'cpu')\n",
        "print(torch.cuda.is_available())\n",
        "seed=42\n",
        "torch.manual_seed(seed)\n",
        "if device=='cuda': torch.cuda.manual_seed_all(seed)\n",
        "\n",
        "root=\"/content/data\"\n",
        "trans=transforms.Compose([transforms.ToTensor()])\n",
        "training_set=torchvision.datasets.MNIST(root=root,train=True,transform=trans,download=True)\n",
        "test_set=torchvision.datasets.MNIST(root=root, train=False,transform=trans, download=True)"
      ],
      "execution_count": 1,
      "outputs": [
        {
          "output_type": "stream",
          "text": [
            "True\n"
          ],
          "name": "stdout"
        }
      ]
    },
    {
      "cell_type": "code",
      "metadata": {
        "id": "efZBa5FYOTFF"
      },
      "source": [
        "num_epochs=20\n",
        "learning_rate=1e-3\n",
        "batch_size=128\n",
        "train_loader=torch.utils.data.DataLoader(training_set,batch_size=batch_size,shuffle=True)\n",
        "test_loader=torch.utils.data.DataLoader(test_set,batch_size=batch_size,shuffle=False)"
      ],
      "execution_count": 2,
      "outputs": []
    },
    {
      "cell_type": "code",
      "metadata": {
        "id": "DCyvDbW0FaWD"
      },
      "source": [
        "class EncResBlock(nn.Module):\n",
        "  def __init__(self, in_channels, out_channels, kernel_size):\n",
        "    super(EncResBlock,self).__init__()\n",
        "    self.subblock_1=nn.Sequential(\n",
        "        nn.Conv2d(in_channels, out_channels, kernel_size, stride=1, padding=(int)((kernel_size-1)/2)),\n",
        "        nn.BatchNorm2d(out_channels),\n",
        "        nn.ReLU()\n",
        "    )\n",
        "    self.subblock_2=nn.Sequential(\n",
        "        nn.Conv2d(out_channels, out_channels, kernel_size, stride=1, padding=(int)((kernel_size-1)/2)),\n",
        "        nn.BatchNorm2d(out_channels)\n",
        "    )\n",
        "    self.skip=nn.Sequential(\n",
        "        nn.Conv2d(in_channels,out_channels,kernel_size=1,stride=1)\n",
        "    )\n",
        "  \n",
        "  def forward(self,x):\n",
        "    residue=self.skip(x)\n",
        "    out=self.subblock_1(x)\n",
        "    #print(out.shape)\n",
        "    out=self.subblock_2(out)+residue\n",
        "    return F.relu(out).to(device)"
      ],
      "execution_count": 3,
      "outputs": []
    },
    {
      "cell_type": "code",
      "metadata": {
        "id": "RVS6wrYmH1Ud"
      },
      "source": [
        "class DecResBlock(nn.Module):\n",
        "  def __init__(self, in_channels, out_channels, kernel_size):\n",
        "    super(DecResBlock,self).__init__()\n",
        "    self.subblock_1=nn.Sequential(\n",
        "        nn.ConvTranspose2d(in_channels,out_channels, kernel_size, stride=1, padding=(int)((kernel_size-1)/2)),\n",
        "        nn.BatchNorm2d(out_channels),\n",
        "        nn.ReLU()\n",
        "    )\n",
        "    self.subblock_2=nn.Sequential(\n",
        "        nn.ConvTranspose2d(out_channels, out_channels, kernel_size, stride=1, padding=(int)((kernel_size-1)/2)),\n",
        "        nn.BatchNorm2d(out_channels)\n",
        "    )\n",
        "    self.skip=nn.Sequential(\n",
        "        nn.ConvTranspose2d(in_channels,out_channels,kernel_size=1,stride=1)\n",
        "    )\n",
        "  \n",
        "  def forward(self,x):\n",
        "    residue=self.skip(x)\n",
        "    out=self.subblock_1(x)\n",
        "    out=self.subblock_2(out)+residue\n",
        "    return F.relu(out).to(device)"
      ],
      "execution_count": 4,
      "outputs": []
    },
    {
      "cell_type": "code",
      "metadata": {
        "id": "GA5MoUD7omWv"
      },
      "source": [
        "class ResNet(nn.Module):\n",
        "  def __init__(self):\n",
        "    super(ResNet,self).__init__()\n",
        "    self.enc1=nn.Sequential(\n",
        "        nn.Conv2d(1,2,9),\n",
        "        nn.ReLU()\n",
        "    )\n",
        "    self.enc2=EncResBlock(2,out_channels=4,kernel_size=9)\n",
        "    self.enc3=nn.Sequential(\n",
        "        nn.Conv2d(4,8,9),\n",
        "        nn.ReLU()\n",
        "    )\n",
        "    self.enc4=EncResBlock(8,16,7)\n",
        "    self.enc5=nn.Sequential(\n",
        "        nn.Conv2d(16,32,7),\n",
        "        nn.ReLU()\n",
        "    )\n",
        "    self.enc6=EncResBlock(32,64,5)\n",
        "    self.enc7=nn.Sequential(\n",
        "        nn.Conv2d(64,128,6),\n",
        "        nn.ReLU()\n",
        "    )\n",
        "    self.dec1=nn.Sequential(\n",
        "        nn.ConvTranspose2d(128,64,6),\n",
        "        nn.ReLU()\n",
        "    )\n",
        "    self.dec2=DecResBlock(64,32,5)\n",
        "    self.dec3=nn.Sequential(\n",
        "        nn.ConvTranspose2d(32,16,7),\n",
        "        nn.ReLU()\n",
        "    )\n",
        "    self.dec4=DecResBlock(16,8,7)\n",
        "    self.dec5=nn.Sequential(\n",
        "        nn.ConvTranspose2d(8,4,9),\n",
        "        nn.ReLU()\n",
        "    )\n",
        "    self.dec6=DecResBlock(4,2,9)\n",
        "    self.dec7=nn.Sequential(\n",
        "        nn.ConvTranspose2d(2,1,9),\n",
        "        nn.Sigmoid()\n",
        "    )\n",
        "\n",
        "  def forward(self,x):\n",
        "    out=self.enc1(x)\n",
        "    #print(out.shape)\n",
        "    out=self.enc2.forward(out)\n",
        "    out=self.enc3(out)\n",
        "    out=self.enc4.forward(out)\n",
        "    out=self.enc5(out)\n",
        "    out=self.enc6.forward(out)\n",
        "    out=self.enc7(out)\n",
        "    out=self.dec1(out)\n",
        "    out=self.dec2.forward(out)\n",
        "    out=self.dec3(out)\n",
        "    out=self.dec4.forward(out)\n",
        "    out=self.dec5(out)\n",
        "    out=self.dec6.forward(out)\n",
        "    out=self.dec7(out)\n",
        "    #print(out.shape)\n",
        "    return out"
      ],
      "execution_count": 5,
      "outputs": []
    },
    {
      "cell_type": "code",
      "metadata": {
        "id": "lY9Xt-ZA1Cbz"
      },
      "source": [
        "def train(model,train_loader,num_epochs,learning_rate):\n",
        "  losses=[]\n",
        "  optimizer=torch.optim.Adam(model.parameters(), lr=learning_rate)\n",
        "  lossfn=torch.nn.BCELoss().to(device)\n",
        "  model.train()\n",
        "  for epoch in range(num_epochs):\n",
        "    for i,(images,_) in enumerate(train_loader):\n",
        "      images=images.to(device)\n",
        "      output=model.forward(images)\n",
        "      loss=lossfn(output,images.float())\n",
        "      losses.append(loss)\n",
        "\n",
        "      optimizer.zero_grad()\n",
        "      loss.backward()\n",
        "      optimizer.step()\n",
        "      \n",
        "    print('Epoch [{}/{}], Loss: {:.4f}'.format(epoch + 1, num_epochs,loss.item()))\n",
        "  return losses"
      ],
      "execution_count": 6,
      "outputs": []
    },
    {
      "cell_type": "code",
      "metadata": {
        "id": "hgBB-oPG1NNv"
      },
      "source": [
        "def evaluate(model,test_loader):\n",
        "  lossfn=torch.nn.BCELoss()\n",
        "  model.eval()\n",
        "  with torch.no_grad():\n",
        "    total=0\n",
        "    for i,(images,_) in enumerate(test_loader):\n",
        "      images=images.to(device)\n",
        "      output=model.forward(images)\n",
        "      total+=lossfn(output,images.float())\n",
        "    \n",
        "    loss=total/len(test_loader)\n",
        "    print(\"model test loss on MNIST test set:\", loss.item())"
      ],
      "execution_count": 7,
      "outputs": []
    },
    {
      "cell_type": "code",
      "metadata": {
        "colab": {
          "base_uri": "https://localhost:8080/"
        },
        "id": "aBCLBTeM1VeO",
        "outputId": "3a659693-71f9-4f4b-fdcf-cd056b2996cf"
      },
      "source": [
        "model=ResNet().to(device)\n",
        "losses=train(model,train_loader,num_epochs,learning_rate)"
      ],
      "execution_count": 8,
      "outputs": [
        {
          "output_type": "stream",
          "text": [
            "Epoch [1/20], Loss: 0.1674\n",
            "Epoch [2/20], Loss: 0.1251\n",
            "Epoch [3/20], Loss: 0.1119\n",
            "Epoch [4/20], Loss: 0.1072\n",
            "Epoch [5/20], Loss: 0.0967\n",
            "Epoch [6/20], Loss: 0.0973\n",
            "Epoch [7/20], Loss: 0.0959\n",
            "Epoch [8/20], Loss: 0.0876\n",
            "Epoch [9/20], Loss: 0.0921\n",
            "Epoch [10/20], Loss: 0.0848\n",
            "Epoch [11/20], Loss: 0.0856\n",
            "Epoch [12/20], Loss: 0.0826\n",
            "Epoch [13/20], Loss: 0.0859\n",
            "Epoch [14/20], Loss: 0.0845\n",
            "Epoch [15/20], Loss: 0.0870\n",
            "Epoch [16/20], Loss: 0.0794\n",
            "Epoch [17/20], Loss: 0.0803\n",
            "Epoch [18/20], Loss: 0.0790\n",
            "Epoch [19/20], Loss: 0.0789\n",
            "Epoch [20/20], Loss: 0.0878\n"
          ],
          "name": "stdout"
        }
      ]
    },
    {
      "cell_type": "code",
      "metadata": {
        "id": "wlt5zl-v1bSY",
        "colab": {
          "base_uri": "https://localhost:8080/"
        },
        "outputId": "44e0c651-e57a-43a0-9b4d-a7c5f88d2376"
      },
      "source": [
        "evaluate(model,test_loader)"
      ],
      "execution_count": 9,
      "outputs": [
        {
          "output_type": "stream",
          "text": [
            "model test loss on MNIST test set: 0.07996081560850143\n"
          ],
          "name": "stdout"
        }
      ]
    },
    {
      "cell_type": "code",
      "metadata": {
        "colab": {
          "base_uri": "https://localhost:8080/",
          "height": 282
        },
        "id": "TQELFAX_E9m9",
        "outputId": "16feee29-50a8-410f-b07e-9bb7abc82798"
      },
      "source": [
        "tens1=training_set[1504][0].reshape(-1,1,28,28)\n",
        "#tens1=torch.rand(1,1,28,28)*0.1\n",
        "test1=np.squeeze(tens1.numpy())\n",
        "plt.imshow(test1)"
      ],
      "execution_count": 10,
      "outputs": [
        {
          "output_type": "execute_result",
          "data": {
            "text/plain": [
              "<matplotlib.image.AxesImage at 0x7f0f155abad0>"
            ]
          },
          "metadata": {
            "tags": []
          },
          "execution_count": 10
        },
        {
          "output_type": "display_data",
          "data": {
            "image/png": "[encoded data removed]",
            "text/plain": [
              "<Figure size 432x288 with 1 Axes>"
            ]
          },
          "metadata": {
            "tags": [],
            "needs_background": "light"
          }
        }
      ]
    },
    {
      "cell_type": "code",
      "metadata": {
        "colab": {
          "base_uri": "https://localhost:8080/",
          "height": 265
        },
        "id": "DSCaINyJFAQe",
        "outputId": "2b89c377-d775-47bd-b424-13e42c9c5362"
      },
      "source": [
        "with torch.no_grad():\n",
        "  tens1_reconstr=model.forward(tens1.to(device))\n",
        "  test1_reconstr=np.squeeze(tens1_reconstr.cpu().numpy())\n",
        "  plt.imshow(test1_reconstr)"
      ],
      "execution_count": 12,
      "outputs": [
        {
          "output_type": "display_data",
          "data": {
            "image/png": "[encoded data removed]",
            "text/plain": [
              "<Figure size 432x288 with 1 Axes>"
            ]
          },
          "metadata": {
            "tags": [],
            "needs_background": "light"
          }
        }
      ]
    },
    {
      "cell_type": "code",
      "metadata": {
        "id": "12qgHzmOFDxe"
      },
      "source": [
        ""
      ],
      "execution_count": null,
      "outputs": []
    }
  ]
}